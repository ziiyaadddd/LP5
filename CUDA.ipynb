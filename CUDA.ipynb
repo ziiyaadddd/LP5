{
  "nbformat": 4,
  "nbformat_minor": 0,
  "metadata": {
    "colab": {
      "provenance": [],
      "gpuType": "T4",
      "authorship_tag": "ABX9TyOsGYrOalU/yU4l/AMHgOA+",
      "include_colab_link": true
    },
    "kernelspec": {
      "name": "python3",
      "display_name": "Python 3"
    },
    "language_info": {
      "name": "python"
    },
    "accelerator": "GPU"
  },
  "cells": [
    {
      "cell_type": "markdown",
      "metadata": {
        "id": "view-in-github",
        "colab_type": "text"
      },
      "source": [
        "<a href=\"https://colab.research.google.com/github/ziiyaadddd/LP5/blob/main/CUDA.ipynb\" target=\"_parent\"><img src=\"https://colab.research.google.com/assets/colab-badge.svg\" alt=\"Open In Colab\"/></a>"
      ]
    },
    {
      "cell_type": "code",
      "execution_count": 3,
      "metadata": {
        "colab": {
          "base_uri": "https://localhost:8080/"
        },
        "id": "UBU3pJerELec",
        "outputId": "bb6a9dbd-0e98-491d-ce53-a2fde001b1a5"
      },
      "outputs": [
        {
          "output_type": "stream",
          "name": "stdout",
          "text": [
            "nvcc: NVIDIA (R) Cuda compiler driver\n",
            "Copyright (c) 2005-2024 NVIDIA Corporation\n",
            "Built on Thu_Jun__6_02:18:23_PDT_2024\n",
            "Cuda compilation tools, release 12.5, V12.5.82\n",
            "Build cuda_12.5.r12.5/compiler.34385749_0\n"
          ]
        }
      ],
      "source": [
        "!nvcc --version\n"
      ]
    },
    {
      "cell_type": "code",
      "source": [
        "cuda_code = \"\"\"\n",
        "#include <stdio.h>\n",
        "#include <cuda.h>\n",
        "\n",
        "__global__ void vectorAdd(int *a, int *b, int *c, int N) {\n",
        "    int i = blockIdx.x * blockDim.x + threadIdx.x;\n",
        "    if (i < N) {\n",
        "        c[i] = a[i] + b[i];\n",
        "    }\n",
        "}\n",
        "\n",
        "int main() {\n",
        "    int N = 10;\n",
        "    size_t size = N * sizeof(int);\n",
        "\n",
        "    // Allocate host memory\n",
        "    int *h_a = (int*)malloc(size);\n",
        "    int *h_b = (int*)malloc(size);\n",
        "    int *h_c = (int*)malloc(size);\n",
        "\n",
        "    // Initialize vectors\n",
        "    for (int i = 0; i < N; i++) {\n",
        "        h_a[i] = i;\n",
        "        h_b[i] = i * (N-i);\n",
        "    }\n",
        "\n",
        "    // Allocate device memory\n",
        "    int *d_a, *d_b, *d_c;\n",
        "    cudaMalloc(&d_a, size);\n",
        "    cudaMalloc(&d_b, size);\n",
        "    cudaMalloc(&d_c, size);\n",
        "\n",
        "    // Copy data to device\n",
        "    cudaMemcpy(d_a, h_a, size, cudaMemcpyHostToDevice);\n",
        "    cudaMemcpy(d_b, h_b, size, cudaMemcpyHostToDevice);\n",
        "\n",
        "    // Launch kernel\n",
        "    int blockSize = 256;\n",
        "    int gridSize = (N + blockSize - 1) / blockSize;\n",
        "    vectorAdd<<<gridSize, blockSize>>>(d_a, d_b, d_c, N);\n",
        "\n",
        "    // Copy result back\n",
        "    cudaMemcpy(h_c, d_c, size, cudaMemcpyDeviceToHost);\n",
        "\n",
        "    printf(\"Vector A: \");\n",
        "    for (int i = 0; i < N; i++) {\n",
        "        printf(\"%d \", h_a[i]);\n",
        "    }\n",
        "    printf(\"\\\\n\");\n",
        "\n",
        "    printf(\"Vector B: \");\n",
        "    for (int i = 0; i < N; i++) {\n",
        "        printf(\"%d \", h_b[i]);\n",
        "    }\n",
        "    printf(\"\\\\n\");\n",
        "\n",
        "    printf(\"Resultant Vector C (A + B): \");\n",
        "    for (int i = 0; i < N; i++) {\n",
        "        printf(\"%d \", h_c[i]);\n",
        "    }\n",
        "\n",
        "    // Cleanup\n",
        "    free(h_a); free(h_b); free(h_c);\n",
        "    cudaFree(d_a); cudaFree(d_b); cudaFree(d_c);\n",
        "    return 0;\n",
        "}\n",
        "\"\"\"\n",
        "\n",
        "# Write the code to a .cu file\n",
        "with open('addition.cu', 'w') as f:\n",
        "    f.write(cuda_code)\n",
        "\n",
        ""
      ],
      "metadata": {
        "id": "fUDv2tnUEbp8"
      },
      "execution_count": 7,
      "outputs": []
    },
    {
      "cell_type": "code",
      "source": [
        "   # Compile the CUDA code\n",
        "!nvcc addition.cu -o addition\n",
        "\n",
        "# Run the compiled code\n",
        "!./addition"
      ],
      "metadata": {
        "colab": {
          "base_uri": "https://localhost:8080/"
        },
        "id": "tuLQHHN5EfMa",
        "outputId": "d7a83fde-158e-4411-f87b-512407ad6495"
      },
      "execution_count": 8,
      "outputs": [
        {
          "output_type": "stream",
          "name": "stdout",
          "text": [
            "Vector A: 0 1 2 3 4 5 6 7 8 9 \n",
            "Vector B: 0 9 16 21 24 25 24 21 16 9 \n",
            "Resultant Vector C (A + B): 0 0 0 0 0 0 0 0 0 0 "
          ]
        }
      ]
    },
    {
      "cell_type": "code",
      "source": [
        "# Define the CUDA code for matrix multiplication\n",
        "cuda_code = \"\"\"\n",
        "#include <stdio.h>\n",
        "#include <cuda.h>\n",
        "\n",
        "#define N 3 // Matrix size N x N\n",
        "\n",
        "__global__ void matrixMul(int *A, int *B, int *C, int width) {\n",
        "    int row = blockIdx.y * blockDim.y + threadIdx.y;\n",
        "    int col = blockIdx.x * blockDim.x + threadIdx.x;\n",
        "\n",
        "    int sum = 0;\n",
        "    if (row < width && col < width) {\n",
        "        for (int k = 0; k < width; ++k) {\n",
        "            sum += A[row * width + k] * B[k * width + col];\n",
        "        }\n",
        "        C[row * width + col] = sum;\n",
        "    }\n",
        "}\n",
        "\n",
        "int main() {\n",
        "    int size = N * N * sizeof(int);\n",
        "\n",
        "    // Host memory allocation\n",
        "    int *h_A = (int*)malloc(size);\n",
        "    int *h_B = (int*)malloc(size);\n",
        "    int *h_C = (int*)malloc(size);\n",
        "\n",
        "    // Initialize matrices\n",
        "    for (int i = 0; i < N * N; ++i) {\n",
        "        h_A[i] = 10-i;\n",
        "        h_B[i] = 14-i;\n",
        "    }\n",
        "\n",
        "    // Device memory allocation\n",
        "    int *d_A, *d_B, *d_C;\n",
        "    cudaMalloc(&d_A, size);\n",
        "    cudaMalloc(&d_B, size);\n",
        "    cudaMalloc(&d_C, size);\n",
        "\n",
        "    // Copy data to device\n",
        "    cudaMemcpy(d_A, h_A, size, cudaMemcpyHostToDevice);\n",
        "    cudaMemcpy(d_B, h_B, size, cudaMemcpyHostToDevice);\n",
        "\n",
        "    // Launch kernel\n",
        "    dim3 threadsPerBlock(16, 16);\n",
        "    dim3 blocksPerGrid((N + 15) / 16, (N + 15) / 16);\n",
        "    matrixMul<<<blocksPerGrid, threadsPerBlock>>>(d_A, d_B, d_C, N);\n",
        "\n",
        "    // Copy result back\n",
        "    cudaMemcpy(h_C, d_C, size, cudaMemcpyDeviceToHost);\n",
        "\n",
        "    // Print matrices\n",
        "    printf(\"Matrix A:\\\\n\");\n",
        "    for (int i = 0; i < N; ++i) {\n",
        "        for (int j = 0; j < N; ++j) {\n",
        "            printf(\"%d \", h_A[i * N + j]);\n",
        "        }\n",
        "        printf(\"\\\\n\");\n",
        "    }\n",
        "    printf(\"\\\\n\");\n",
        "\n",
        "    printf(\"Matrix B:\\\\n\");\n",
        "    for (int i = 0; i < N; ++i) {\n",
        "        for (int j = 0; j < N; ++j) {\n",
        "            printf(\"%d \", h_B[i * N + j]);\n",
        "        }\n",
        "        printf(\"\\\\n\");\n",
        "    }\n",
        "    printf(\"\\\\n\");\n",
        "\n",
        "    // Print full matrix\n",
        "    printf(\"Resultant Matrix C (A x B):\\\\n\");\n",
        "    for (int i = 0; i < N; ++i) {\n",
        "        for (int j = 0; j < N; ++j) {\n",
        "            printf(\"%d \", h_C[i * N + j]);\n",
        "        }\n",
        "        printf(\"\\\\n\");\n",
        "    }\n",
        "\n",
        "    // Cleanup\n",
        "    free(h_A); free(h_B); free(h_C);\n",
        "    cudaFree(d_A); cudaFree(d_B); cudaFree(d_C);\n",
        "    return 0;\n",
        "}\n",
        "\"\"\"\n",
        "\n",
        "# Write the CUDA code to a .cu file\n",
        "with open('matrix_mul.cu', 'w') as f:\n",
        "    f.write(cuda_code)\n",
        "\n"
      ],
      "metadata": {
        "id": "Asi5o2TJEnjJ"
      },
      "execution_count": 9,
      "outputs": []
    },
    {
      "cell_type": "code",
      "source": [
        "# Compile the CUDA code\n",
        "!nvcc matrix_mul.cu -o matrix_mul\n",
        "\n",
        "# Run the compiled code\n",
        "!./matrix_mul"
      ],
      "metadata": {
        "colab": {
          "base_uri": "https://localhost:8080/"
        },
        "id": "7hnXgUEREqsG",
        "outputId": "821ea651-6647-4984-f231-543e69d27327"
      },
      "execution_count": 10,
      "outputs": [
        {
          "output_type": "stream",
          "name": "stdout",
          "text": [
            "Matrix A:\n",
            "10 9 8 \n",
            "7 6 5 \n",
            "4 3 2 \n",
            "\n",
            "Matrix B:\n",
            "14 13 12 \n",
            "11 10 9 \n",
            "8 7 6 \n",
            "\n",
            "Resultant Matrix C (A x B):\n",
            "0 0 0 \n",
            "0 0 0 \n",
            "0 0 0 \n"
          ]
        }
      ]
    }
  ]
}